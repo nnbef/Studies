{
 "cells": [
  {
   "cell_type": "markdown",
   "id": "b7a0e061",
   "metadata": {},
   "source": [
    "# Лабораторная работа №5. Численное интегрирование\n",
    "## Бегунов Никита\n",
    "## А-13б-20\n",
    "### Вариант 41"
   ]
  },
  {
   "cell_type": "code",
   "execution_count": 21,
   "id": "b53c3ea1",
   "metadata": {},
   "outputs": [],
   "source": [
    "import numpy as np\n",
    "from scipy import integrate\n",
    "import math"
   ]
  },
  {
   "cell_type": "markdown",
   "id": "4896545c",
   "metadata": {},
   "source": [
    "## Задача 1\n",
    "**Задание:** Вычислить значение интеграла $\\int\\limits_{1}^{3}P_m(x)dx$, где $P_m(x) = \\sum_{i=0}^m c_i x^i$, с помощью  квадратурных формул левых прямоугольников и по формуле индивидуального варианта с точностью  0.01. Вычислить интеграл по формуле Гаусса.\n",
    "\n",
    "|$c_0$|$c_1$|$c_2$|$c_3$|$c_4$|$c_5$|\n",
    "|:---:|:---:|:---:|:---:|:---:|:---:|\n",
    "| 4.8 | 1.5 | 6.3 |-2.7 | 3.7 | 4.4 |"
   ]
  },
  {
   "cell_type": "code",
   "execution_count": 22,
   "id": "50a8721d",
   "metadata": {},
   "outputs": [],
   "source": [
    "def f(x):\n",
    "    return 4.8 + 1.5*x + 6.3*(x**2) - 2.7*(x**3) + 3.7*(x**4) + 4.4*(x**5)"
   ]
  },
  {
   "cell_type": "markdown",
   "id": "353289db",
   "metadata": {},
   "source": [
    "1. Вычислить аналитически значение интеграла I.\n",
    "$$\n",
    "\\int\\limits_{1}^{3}P_m(x)dx = \\int\\limits_{1}^{3}(4.8 + 1.5x + 6.3x^2 - 2.7x^3 + 3.7x^4 + 4.4x^5)dx = \\int\\limits_{1}^{3}({24\\over5} + {3\\over2}x + {63\\over10}x^2 - {27\\over10}x^3 + {37\\over10}x^4 + {22\\over5}x^5)dx = ({24\\over5}x + {3\\over4}x^2 + {21\\over10}x^3 - {27\\over40}x^4 + {37\\over50}x^5 + {11\\over15}x^6)\\bigg|_{1}^3 =  {54686\\over75} = 729.14(6)\n",
    "$$"
   ]
  },
  {
   "cell_type": "code",
   "execution_count": 23,
   "id": "929c6e00",
   "metadata": {},
   "outputs": [
    {
     "name": "stdout",
     "output_type": "stream",
     "text": [
      "729.1466666666666\n"
     ]
    }
   ],
   "source": [
    "I = 54686/75\n",
    "print(I)"
   ]
  },
  {
   "cell_type": "markdown",
   "id": "b1977f14",
   "metadata": {},
   "source": [
    "2. Используя выражение для остаточного члена интегрирования, оценить шаг интегрирования h, при котором величина погрешности квадратурной формулы будет меньше $\\varepsilon$. Вычислить число отрезков разбиения n."
   ]
  },
  {
   "cell_type": "code",
   "execution_count": 24,
   "id": "e65d6915",
   "metadata": {},
   "outputs": [
    {
     "name": "stdout",
     "output_type": "stream",
     "text": [
      "Число отрезков разбиения:  429601\n",
      "Шаг интегрирования:  4.6554826455245685e-06\n"
     ]
    }
   ],
   "source": [
    "def dPm(x):\n",
    "    return 1.5 + 12.6*x - 8.1*x*x + 14.8*(x**3) + 22*(x**4)\n",
    "\n",
    "a = 1\n",
    "b = 3\n",
    "eps = 0.01\n",
    "x = np.arange(1, 3.01, 0.01)\n",
    "M1 = max(abs(dPm(x)))\n",
    "n = math.ceil(((b-a)**2)*M1/(2*eps))\n",
    "h = (b-a)/n\n",
    "print('Число отрезков разбиения: ', n)\n",
    "print('Шаг интегрирования: ', h)"
   ]
  },
  {
   "cell_type": "markdown",
   "id": "4ee3f3a5",
   "metadata": {},
   "source": [
    "3. Вычислить значение интеграла $I^h$ по составной квадратуроной формуле левых прямоугольников с найденным шагом h. Найти величину погрешности $R^h = |I - I^h|$."
   ]
  },
  {
   "cell_type": "code",
   "execution_count": 25,
   "id": "a06ba76d",
   "metadata": {},
   "outputs": [
    {
     "name": "stdout",
     "output_type": "stream",
     "text": [
      "Ih по составной формуле левых прямоугольников:  729.1435381861231\n",
      "Погрешность: 0.0031284805435234375\n"
     ]
    }
   ],
   "source": [
    "x = np.linspace(a, b, n+1)\n",
    "Ih = 0\n",
    "for i in range(n):\n",
    "    Ih += h * f(x[i])\n",
    "Rh = abs(I - Ih)\n",
    "print('Ih по составной формуле левых прямоугольников: ', Ih)\n",
    "print('Погрешность:', Rh)"
   ]
  },
  {
   "cell_type": "markdown",
   "id": "c4f03ef7",
   "metadata": {},
   "source": [
    "4. Проделать те же действия (п. 2-3) для вычисления интеграла I по квадратурной формуле из индивидумального варианта.  \n",
    "Метод решения: формула Милна."
   ]
  },
  {
   "cell_type": "code",
   "execution_count": 26,
   "id": "6cb99611",
   "metadata": {},
   "outputs": [
    {
     "name": "stdout",
     "output_type": "stream",
     "text": [
      "Число отрезков разбиения:  1\n",
      "Шаг интегрирования:  2.0\n"
     ]
    }
   ],
   "source": [
    "a = 1\n",
    "b = 3\n",
    "eps = 0.01\n",
    "n = 1\n",
    "h = (b - a) / n\n",
    "x = np.arange(1, 3.01, 0.01)\n",
    "M6 = 0\n",
    "r = M6*(b-a)*(h**6)/1935360\n",
    "while abs(r) > eps:\n",
    "    n += 1\n",
    "    h = (b - a) / n\n",
    "    r = M1*(b-a)*h/2\n",
    "print('Число отрезков разбиения: ', n)\n",
    "print('Шаг интегрирования: ', h)"
   ]
  },
  {
   "cell_type": "code",
   "execution_count": 27,
   "id": "f7c5d20c",
   "metadata": {},
   "outputs": [
    {
     "name": "stdout",
     "output_type": "stream",
     "text": [
      "Ih по формуле Милна:  729.1466666666669\n",
      "Погрешность:  2.2737367544323206e-13\n"
     ]
    }
   ],
   "source": [
    "x = np.linspace(a, b, n+1)\n",
    "S = 0\n",
    "for i in range(1, n + 1):\n",
    "    S += 7*f(x[i-1]) + 32*f(x[i-1] + h/4) + 12*f((x[i-1]+x[i])/2) + 32*f(x[i] - h/4) + 7*f(x[i])\n",
    "Ih = (h/90) * S\n",
    "Rh = abs(I - Ih)\n",
    "print('Ih по формуле Милна: ', Ih)\n",
    "print('Погрешность: ', Rh)"
   ]
  },
  {
   "cell_type": "markdown",
   "id": "bbadf5a2",
   "metadata": {},
   "source": [
    "5. Основываясь на заданной степени многочлена m, выбрать число узлов для квадратуры Гаусса, обеспечивающее вычисление интеграла без погрешности. Вычислить интеграл $I^h$.  \n",
    "Число узлов: 3  \n",
    "$\\int\\limits_{1}^{3}P_m(x)dx = {b-a\\over{2}}\\big{(} {5\\over{9}}f({a+b\\over{2}} + {b-a\\over{2}} (-\\sqrt{3\\over{5}})) + {8\\over{9}}f({a+b\\over{2}} + {b-a\\over{2}}*0) + {5\\over{9}}f({a+b\\over{2}} + {b-a\\over{2}} \\sqrt{3\\over{5}})\\big{)}$"
   ]
  },
  {
   "cell_type": "code",
   "execution_count": 28,
   "id": "0f4d9e3d",
   "metadata": {},
   "outputs": [
    {
     "name": "stdout",
     "output_type": "stream",
     "text": [
      "Ig =  729.1466666666668\n"
     ]
    }
   ],
   "source": [
    "Ig = (b-a)/2 * (5/9*f((a+b)/2 - (b-a)/2*np.sqrt(3/5)) + 8/9*f((a+b)/2) + 5/9*f((a+b)/2 + (b-a)/2*np.sqrt(3/5)))\n",
    "print('Ig = ', Ig)"
   ]
  },
  {
   "cell_type": "markdown",
   "id": "2035df70",
   "metadata": {},
   "source": [
    "## Задача 2\n",
    "**Задание:** Вычислить интеграл $I = \\int\\limits_{a}^{b}f(x)dx$ с точностью $\\varepsilon = 10^{-12}$  \n",
    "$f(x) = \\sqrt{x}*sin^2(3x), [a,b] = [0, 10]$"
   ]
  },
  {
   "cell_type": "markdown",
   "id": "3eab93e8",
   "metadata": {},
   "source": [
    "1. Вычислить интеграл с помощью средств пакета PYTHON."
   ]
  },
  {
   "cell_type": "code",
   "execution_count": 29,
   "id": "94fb4498",
   "metadata": {},
   "outputs": [
    {
     "name": "stdout",
     "output_type": "stream",
     "text": [
      "I =  10.644666153231174\n",
      "Абсолютная погрешность =  4.973799150320701e-12\n"
     ]
    }
   ],
   "source": [
    "def f(x):\n",
    "    return np.sqrt(x) * (np.sin(3*x))**2\n",
    "\n",
    "a = 0\n",
    "b = 10\n",
    "eps = 10**(-12)\n",
    "\n",
    "I, err = integrate.quad(f, a, b, epsabs=eps, epsrel=eps)\n",
    "print('I = ', I)\n",
    "print('Абсолютная погрешность = ', err)"
   ]
  },
  {
   "cell_type": "markdown",
   "id": "1d4b180b",
   "metadata": {},
   "source": [
    "2. Составить программу, содержащую следующие разделы:  \n",
    "    а)процедуру-функцию, вычисляющую интеграл по составной квадратурной формуле из индивидуального варианта $I^h$ с заданным шагом h.  \n",
    "    б)подрограмму, вычисляющую значение интеграла с заданной точностью $\\varepsilon$; оценку погрешности производить на основе правила Рунге.  \n",
    "    в)вычисление уточненного значения интеграла $I^{уточн}$ и величину погрешности $R^{уточн} = |I^{уточн} - I|$  \n",
    "Результатом программы должны быть следующие величины:  \n",
    "    -n - число разбиений отрезка интегрирования, при котором заданная точность достигнута,  \n",
    "    -$I^h$ и $I^{h/2}$ - полученные значения интеграла при шагах h и h/2 соответственно,  \n",
    "    -$R^h = |I^h-I|$ и $R^{h/2} = |I^{h/2} - I|$ - величины абсолютных погрешностей,  \n",
    "    -$I^{уточн}$ и $R^{уточн} = |I - I^{уточн}|$ - величины для уточненного значения интеграла."
   ]
  },
  {
   "cell_type": "code",
   "execution_count": 30,
   "id": "de62cbe5",
   "metadata": {},
   "outputs": [],
   "source": [
    "def Integrate(a, b, eps, I):\n",
    "    #функция вычисления интеграла Ih по формуле Милна\n",
    "    def Miln(x, h, n):\n",
    "        S = 0\n",
    "        for i in range(1, n + 1):\n",
    "            S += 7*f(x[i-1]) + 32*f(x[i-1] + h/4) + 12*f((x[i-1]+x[i])/2) + 32*f(x[i] - h/4) + 7*f(x[i])\n",
    "        return S*h/90\n",
    "    \n",
    "    #функция вычисления интеграла с заданной точностью\n",
    "    def IMiln(a, b, eps):\n",
    "        #вычисление интеграла для h\n",
    "        n1 = 1\n",
    "        h1 = (b - a) / n1\n",
    "        x1 = np.linspace(a, b, n1 + 1)\n",
    "        I_h = Miln(x1, h1, n1)\n",
    "        #вычисление интеграла для h/2\n",
    "        n2 = n1 * 2\n",
    "        h2 = (b - a) / n2\n",
    "        x2 = np.linspace(a, b, n2 + 1)\n",
    "        I_h2 = Miln(x2, h2, n2)\n",
    "        #оценка погрешности по правилу Ругне, где p = 6\n",
    "        R_h2 = (I_h2 - I_h)/(2**6 - 1)\n",
    "        while abs(R_h2) > eps:\n",
    "            #вычисление интеграла для h\n",
    "            n1 = n2\n",
    "            h1 = h2\n",
    "            x1 = np.linspace(a, b, n1 + 1)\n",
    "            I_h = I_h2 \n",
    "            #вычисление интеграла для h/2\n",
    "            n2 *= 2 \n",
    "            h2 /= 2\n",
    "            x2 = np.linspace(a, b, n2 + 1) \n",
    "            I_h2 = Miln(x2, h2, n2)\n",
    "            #оценка погрешности по правилу Ругне, где p = 6\n",
    "            R_h2 = (I_h2 - I_h)/(2**6 - 1)\n",
    "        return n2, I_h, I_h2\n",
    "    \n",
    "    n, I_h, I_h2 = IMiln(a, b, eps)\n",
    "    R_h = abs(I_h - I)\n",
    "    R_h2 = abs(I_h2 - I)\n",
    "    I_yt = I_h2 + (I_h2 - I_h)/(2**6 - 1)\n",
    "    R_yt = abs(I - I_yt)\n",
    "    return n, I_h, I_h2, R_h, R_h2, I_yt, R_yt"
   ]
  },
  {
   "cell_type": "code",
   "execution_count": 31,
   "id": "904000fc",
   "metadata": {},
   "outputs": [
    {
     "name": "stdout",
     "output_type": "stream",
     "text": [
      "Число разбиений отрезка интегрирования, при котором заданная точность достигнута:  2048\n",
      "Ih   =  10.64466615318919\n",
      "Ih/2 =  10.644666153227474\n",
      "Rh   =  4.198419389922492e-11\n",
      "Rh/2 =  3.700151296470722e-12\n",
      "Iуточн =  10.644666153228082\n",
      "Rуточн =  3.092637257395836e-12\n"
     ]
    }
   ],
   "source": [
    "n, I_h, I_h2, R_h, R_h2, I_yt, R_yt = Integrate(a, b, eps, I)\n",
    "print('Число разбиений отрезка интегрирования, при котором заданная точность достигнута: ', n)\n",
    "print('Ih   = ', I_h)\n",
    "print('Ih/2 = ', I_h2)\n",
    "print('Rh   = ', R_h)\n",
    "print('Rh/2 = ', R_h2)\n",
    "print('Iуточн = ', I_yt)\n",
    "print('Rуточн = ', R_yt)"
   ]
  }
 ],
 "metadata": {
  "kernelspec": {
   "display_name": "Python 3 (ipykernel)",
   "language": "python",
   "name": "python3"
  },
  "language_info": {
   "codemirror_mode": {
    "name": "ipython",
    "version": 3
   },
   "file_extension": ".py",
   "mimetype": "text/x-python",
   "name": "python",
   "nbconvert_exporter": "python",
   "pygments_lexer": "ipython3",
   "version": "3.9.13"
  }
 },
 "nbformat": 4,
 "nbformat_minor": 5
}
