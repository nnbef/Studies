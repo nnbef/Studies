{
 "cells": [
  {
   "cell_type": "markdown",
   "id": "3fa5d80c",
   "metadata": {},
   "source": [
    "# Работа №5. Критерий хи-квадрат проверки гипотез"
   ]
  },
  {
   "cell_type": "code",
   "execution_count": 1,
   "id": "ed008526",
   "metadata": {},
   "outputs": [],
   "source": [
    "import numpy as np\n",
    "import matplotlib.pyplot as plt\n",
    "import scipy.stats as stats\n",
    "import pandas as pd"
   ]
  },
  {
   "cell_type": "markdown",
   "id": "d6cda298",
   "metadata": {},
   "source": [
    "Критерий хи-квадрат Пирсона является весьма общим методом построения тестов для проверки различных гипотез. Рассмотрим исходную схему.\n",
    "### 1. Проверка простой гипотезы о вероятностях\n",
    "Обозначим:\n",
    "$A_1, ..., A_m$ - $m$ возможных исходов некоторого опыта;  \n",
    "$p_1, ..., p_m$ - вероятности соответствующих исходов, $\\sum\\limits_{i=1}^m p_i = 1$;  \n",
    "$n$ - число независимых повторений опыта;  \n",
    "$\\nu_1, ..., \\nu_m$ - число появлений соответсвующих исходов в $n$ опытах, $\\sum\\limits_{i=1}^m \\nu_i = n$;  \n",
    "$p_1^0, ..., p_m^0$ - гипотетические значения вероятностей, $p_i^0 \\gt 0$, $\\sum\\limits_{i=1}^m p_i^0 = 1$;  \n",
    "Требуется по наблюдениям $\\nu_1, ..., \\nu_m$ проверить гипотезу $H$ о том, что вероятности $p_1, ..., p_m$ имеют значения $p_1^0, ..., p_m^0$, то есть\n",
    "$$\n",
    "H: p_i = p_i^0, i=1,...,m.\n",
    "$$\n",
    "Оценками для $p_1, ..., p_m$ являются $p_1^{\\text{^}} = {\\nu_1\\over{n}}, ..., p_m^{\\text{^}} = {\\nu_m\\over{n}}$. Мерой расхождения между гипотетическими и эмпирическими вероятностями принимается величина\n",
    "$$\n",
    "X^2 = n\\sum\\limits_{i=1}^m p_i^0 \\big( {p_i^{\\text{^}} - p_i^0\\over{p_i^0}} \\big),\n",
    "$$\n",
    "которая с точностью до множителя $n$ есть усредненное с весами $p_i^0$ значение квадрата относительного отклонения значений $p_i^{\\text{^}}$ от $p_i^0$. Статистика $X^2$ называется статистикой хи-квадрат Пирсона. Для ее вычисления используются две формулы:\n",
    "$$\n",
    "X^2 = \\sum\\limits_{i=1}^m {(\\nu_i - np_i^0)^2\\over{np_i^0}} = \\sum\\limits_{i=1}^m {\\nu_i^2\\over{np_i^0}} - n.\n",
    "$$\n",
    "Условно статистику можно записать так:\n",
    "$$\n",
    "X^2 = \\sum {(H-T)^2\\over{T}},\n",
    "$$\n",
    "$H$ - наблюдаемые частоты $\\nu_i$, $T$ - теоретические (ожидаемые) частоты $np_i^0$. Поскольку по закону больших чисел $p_i^{\\text{^}} \\rightarrow p_i$ при $n \\rightarrow \\inf$, то\n",
    "$$\n",
    "\\sum\\limits_{i=1}^m p_i^0 \\big( {p_i^{\\text{^}} - p_i^0 \\over{p_i^0}} \\big)^2 \\rightarrow \\sum\\limits_{i=1}^m {(p_i - p_i^0)^2 \\over{p_i^0}}.\n",
    "$$\n",
    "Последняя величина равна 0, если верна $H$; если же $H$ не верна, то $X^2 \\rightarrow \\inf$.  \n",
    "Процедура проверки гипотезы состоит в том, что если величина $X^2$ приняла \"слишком большое\" значение, то есть если \n",
    "$$\n",
    "X^2 \\ge h,\n",
    "$$\n",
    "то гипотеза $H$ отклоняется; если это не так, будем говорить, что наблюдения не противоречат гипотезе. На вопрос, что означает $слишком большое$ значение, отвечает  \n",
    "**Теорема Пирсона.** Если гипотеза $H$ верна и $p_i^0 \\gt 0, i=1,...,m$, то при $n \\rightarrow \\inf$ распределение статистики $X^2$ асимптотически подчиняется распределению хи-квадрат с $m-1$ степенями свободы, то есть\n",
    "$$\n",
    "P(X^2 \\le x | H) \\rightarrow F_{m-1}(x) = P(\\chi_{m-1}^2 < x).\n",
    "$$\n",
    "Порог $h$ выберем из условия: вероятность ошибки первого рода должна быть малой - равной выбираемому значению $\\alpha$ - уровню значимости:\n",
    "$$\n",
    "P(отк.H | H) = P(X^2 \\ge h | H)= P(\\chi_{m-1}^2 \\ge h) = \\alpha, \\text{ откуда } h=Q(1-\\alpha, n-1) \\text{ - квантиль уровня } 1-\\alpha \\text{ распределения хи-квадрат с m-1 степенями свободы.}\n",
    "$$\n",
    "Процедура проверки может быть записана иначе: гипотеза $H$ отклоняется, если\n",
    "$$\n",
    "P(\\chi_{m-1}^2 \\ge X^2) \\le \\alpha,\n",
    "$$\n",
    "то есть мала вероятность получения (при справедливости $H$) такого же расхождения, как в опыте (то есть $X^2$), или еще большего. Вероятность $P(\\chi_{m-1}^2 \\ge X^2)$ называется минимальным уровнем значимости (при любом значении $\\alpha$, большем $P(\\chi_{m-1}^2 \\ge X^2)$, гипотеза, очевидно, отклоняется).  \n",
    "**Замечание.** Теорему Пирсона можно применять, если все ожидаемые частоты\n",
    "$$\n",
    "np_i^0 \\ge 10, i=1,...,m;\n",
    "$$\n",
    "если $m$ порядка десяти и более, достаточно выполнения\n",
    "$$\n",
    "np_i^0 \\ge 4, i=1,...,m.\n",
    "$$\n",
    "Если это условие не выполняется, необходимо некоторые исходы $A_i$ объединять."
   ]
  },
  {
   "cell_type": "markdown",
   "id": "26c5b0ce",
   "metadata": {},
   "source": [
    "### 2. Проверка сложной гипотезы о вероятностях\n",
    "Пусть $A_1, ..., A_m$ - $m$ исходов некоторого опыта, $n$ - число независимых повторений опыта, $\\nu_1, ..., \\nu_m$ - числа появлений исходов. Проверяемая гипотеза $H$ предполагает, что вероятности исходов $P(A_i)$ являются известными функциями $P_i(a)$ k-мерного параметра $a = (a_1, ..., a_k)$, то есть\n",
    "$$\n",
    "H: P(A_i) = p_i(a), i = 1, ...,m,\n",
    "$$\n",
    "но значение $a$ неизвестно.  \n",
    "Для проверки гипотезы $H$ определим статистику\n",
    "$$\n",
    "\\overline{X^2} = \\min\\limits_a \\sum\\limits_{i=1}^m {(\\nu_i - np_i(a))^2\\over{np_i(a)}}\n",
    "$$\n",
    "По теореме Фишера, если $H$ верна, то при $n \\rightarrow \\inf$ распределенеи статистики $X^2$ асимптотически подчиняется распределению хи-квадрат с числом степеней свободы $f = m - 1 - k$, и потому отклоняем H, если\n",
    "$$\n",
    "\\overline{X^2} \\ge h, h=Q(1-\\alpha, f) \\text{ - квантиль распределения хи-квадрат с числом f степеней свободы};\n",
    "$$\n",
    "такой порог обеспечивает выбранный уровень $\\alpha$ вероятности $P(отк.H|H)$ ошибки первого рода. Если условие не выполянется, делаем вывод, чот наблюдения не противоречат гипотезе. Распределнию хи-квадрат с $f = m - 1 - k$ степенями свободы асимптотически подчиняется также статистика\n",
    "$$\n",
    "\\overline{X^2} = \\sum\\limits_{i=1}^m {(\\nu_i - np_i(a^{\\text{^}}))\\over{np_i(a)}}\n",
    "$$\n",
    "где $a^{\\text{^}}$ - оценка максимального правдоподобия для $a$, и потому процедура может быть записана иначе: если\n",
    "$$\n",
    "P(\\chi_f^2 \\ge X^2) \\le \\alpha\n",
    "$$\n",
    "то гипотеза H отклоняется."
   ]
  },
  {
   "cell_type": "markdown",
   "id": "ee8703ba",
   "metadata": {},
   "source": [
    "### 3. Проверка гипотезы о типе распределения\n",
    "Пусть требуется проверить гипотезу о том, что выборка $x_1, ..., x_n$ извлечена из совокупности, распределенной по некоторому закону,  известному с точностью до k-мерного параметра $a = (a_1, ..., a_k)$. Оказываются теоретически обоснованными следующие действия: разобьем весь диапазон наблюдений на $m$ интервалов, определим значения $\\nu_i$ - число наблюдений в i-м интервале, получим значение оценки $a^{\\text{^}}$ минимизацией или методом максимального правдопобобия, опрелелим вероятности $p_i(a^{\\text{^}})$ попадания в i-й интервал, вычислим статистику хи-квадрат Пирсона и примем решение.\n",
    "**Пример 1. Проверка нормальности** Проверим гипотезу о нормальном законе распределения размеров головое заклепок, сделанных на одной станке, по выборке объема $n=200$; измерения привдены ниже. Оценками для $a$ (среднего) и $\\sigma$ (стандартного отклонения) являются\n",
    "$$\n",
    "\\overline{x} = {1\\over{n}} \\sum\\limits_{i=1}^n x_i, s = \\sqrt{{1\\over{n-1}}\\sum\\limits_{i=1}^n (x_i - \\overline{x})^2}.\n",
    "$$"
   ]
  },
  {
   "cell_type": "code",
   "execution_count": 2,
   "id": "d3997d3f",
   "metadata": {},
   "outputs": [
    {
     "name": "stdout",
     "output_type": "stream",
     "text": [
      "13.421499999999998 0.1344475014764735\n"
     ]
    }
   ],
   "source": [
    "data = np.array([13.39, 13.33, 13.56, 13.38, 13.43, 13.37, 13.53, 13.40, 13.25,\n",
    "        13.37, 13.28, 13.34, 13.50, 13.38, 13.38, 13.45, 13.47, 13.62,\n",
    "        13.45, 13.39, 13.53, 13.58, 13.32, 13.27, 13.42, 13.40, 13.57,\n",
    "        13.46, 13.33, 13.40, 13.57, 13.36, 13.43, 13.38, 13.26, 13.52,\n",
    "        13.35, 13.29, 13.48, 13.43, 13.40, 13.39, 13.50, 13.52, 13.39,\n",
    "        13.39, 13.46, 13.29, 13.55, 13.31, 13.29, 13.33, 13.38, 13.61,\n",
    "        13.55, 13.40, 13.20, 13.31, 13.46, 13.13, 13.43, 13.51, 13.50,\n",
    "        13.38, 13.44, 13.62, 13.42, 13.54, 13.31, 13.58, 13.41, 13.49,\n",
    "        13.42, 13.45, 13.34, 13.47, 13.48, 13.59, 13.20, 14.56, 13.55,\n",
    "        13.44, 13.50, 13.40, 13.48, 13.29, 13.31, 13.42, 13.32, 13.48,\n",
    "        13.43, 13.26, 13.58, 13.38, 13.48, 13.45, 13.29, 13.32, 13.24,\n",
    "        13.38, 13.34, 13.14, 13.31, 13.51, 13.59, 13.32, 13.52, 13.57,\n",
    "        13.62, 13.29, 13.23, 13.37, 13.64, 13.30, 13.40, 13.58, 13.24,\n",
    "        13.32, 13.52, 13.50, 13.43, 13.58, 13.63, 13.48, 13.34, 13.37,\n",
    "        13.18, 13.50, 13.45, 13.60, 13.38, 13.33, 13.57, 13.28, 13.32,\n",
    "        13.40, 13.40, 13.33, 13.20, 13.44, 13.34, 13.54, 13.40, 13.47,\n",
    "        13.28, 13.41, 13.39, 13.48, 13.42, 13.46, 13.28, 13.46, 13.37,\n",
    "        13.53, 13.43, 13.30, 13.45, 13.40, 13.45, 13.40, 13.33, 13.39,\n",
    "        13.56, 13.46, 13.26, 13.35, 13.42, 13.36, 13.44, 13.41, 13.43,\n",
    "        13.51, 13.51, 13.24, 13.34, 13.28, 13.37, 13.54, 13.43, 13.35,\n",
    "        13.52, 13.23, 13.48, 13.48, 13.54, 13.41, 13.51, 13.44, 13.36,\n",
    "        13.36, 13.53, 13.44, 13.69, 13.66, 13.32, 13.26, 13.51, 13.38, 13.46, 13.34])\n",
    "n = len(data)\n",
    "x_mean = data.sum() / n\n",
    "s = np.sqrt(np.sum((data-x_mean)**2)/(n-1))\n",
    "print(x_mean, s)"
   ]
  },
  {
   "cell_type": "code",
   "execution_count": 3,
   "id": "a1139d80",
   "metadata": {},
   "outputs": [
    {
     "name": "stdout",
     "output_type": "stream",
     "text": [
      "Хи-квадрат статистика: 14785703345269.318\n",
      "p-value: 0.0\n",
      "Отвергаем нулевую гипотезу: данные не имеют нормальное распределение\n"
     ]
    }
   ],
   "source": [
    "# Разбиение данных на интервалы\n",
    "bins = np.histogram_bin_edges(data, bins='auto')\n",
    "\n",
    "# Получение наблюдаемых частот\n",
    "observed_freq, _ = np.histogram(data, bins=bins)\n",
    "\n",
    "# Ожидаемые частоты из нормального распределения\n",
    "expected_freq = len(data) * np.diff(stats.norm.cdf((bins-x_mean)/s))\n",
    "\n",
    "# Приведение ожидаемых частот к сумме, равной сумме наблюдаемых\n",
    "expected_freq *= np.sum(observed_freq) / np.sum(expected_freq)\n",
    "\n",
    "# Применение хи-квадрат теста\n",
    "statistic, p_value = stats.chisquare(observed_freq, expected_freq, ddof=2)\n",
    "\n",
    "alpha = 0.05  # Уровень значимости\n",
    "\n",
    "print(f\"Хи-квадрат статистика: {statistic}\")\n",
    "print(f\"p-value: {p_value}\")\n",
    "\n",
    "if p_value < alpha:\n",
    "    print(\"Отвергаем нулевую гипотезу: данные не имеют нормальное распределение\")\n",
    "else:\n",
    "    print(\"Нет оснований отвергнуть нулевую гипотезу о нормальном распределении данных\")"
   ]
  },
  {
   "cell_type": "code",
   "execution_count": 4,
   "id": "07772d98",
   "metadata": {},
   "outputs": [
    {
     "data": {
      "image/png": "[encoded data removed]",
      "text/plain": [
       "<Figure size 640x480 with 1 Axes>"
      ]
     },
     "metadata": {},
     "output_type": "display_data"
    }
   ],
   "source": [
    "diap = []\n",
    "for i in range(len(bins)-1):\n",
    "    diap.append((bins[i]+bins[i+1])/2)\n",
    "x = np.arange(12, 15, 3/200)\n",
    "plt.plot(x, stats.norm.pdf(x, x_mean, s))\n",
    "plt.scatter(diap, 16.5*observed_freq/n)\n",
    "plt.grid()"
   ]
  },
  {
   "cell_type": "code",
   "execution_count": 5,
   "id": "48b8dde1",
   "metadata": {},
   "outputs": [
    {
     "name": "stdout",
     "output_type": "stream",
     "text": [
      "13.41577889447236 0.10764828324520705\n"
     ]
    }
   ],
   "source": [
    "# Удалим выборос в данных\n",
    "data = np.array([13.39, 13.33, 13.56, 13.38, 13.43, 13.37, 13.53, 13.40, 13.25,\n",
    "        13.37, 13.28, 13.34, 13.50, 13.38, 13.38, 13.45, 13.47, 13.62,\n",
    "        13.45, 13.39, 13.53, 13.58, 13.32, 13.27, 13.42, 13.40, 13.57,\n",
    "        13.46, 13.33, 13.40, 13.57, 13.36, 13.43, 13.38, 13.26, 13.52,\n",
    "        13.35, 13.29, 13.48, 13.43, 13.40, 13.39, 13.50, 13.52, 13.39,\n",
    "        13.39, 13.46, 13.29, 13.55, 13.31, 13.29, 13.33, 13.38, 13.61,\n",
    "        13.55, 13.40, 13.20, 13.31, 13.46, 13.13, 13.43, 13.51, 13.50,\n",
    "        13.38, 13.44, 13.62, 13.42, 13.54, 13.31, 13.58, 13.41, 13.49,\n",
    "        13.42, 13.45, 13.34, 13.47, 13.48, 13.59, 13.20, 13.55,\n",
    "        13.44, 13.50, 13.40, 13.48, 13.29, 13.31, 13.42, 13.32, 13.48,\n",
    "        13.43, 13.26, 13.58, 13.38, 13.48, 13.45, 13.29, 13.32, 13.24,\n",
    "        13.38, 13.34, 13.14, 13.31, 13.51, 13.59, 13.32, 13.52, 13.57,\n",
    "        13.62, 13.29, 13.23, 13.37, 13.64, 13.30, 13.40, 13.58, 13.24,\n",
    "        13.32, 13.52, 13.50, 13.43, 13.58, 13.63, 13.48, 13.34, 13.37,\n",
    "        13.18, 13.50, 13.45, 13.60, 13.38, 13.33, 13.57, 13.28, 13.32,\n",
    "        13.40, 13.40, 13.33, 13.20, 13.44, 13.34, 13.54, 13.40, 13.47,\n",
    "        13.28, 13.41, 13.39, 13.48, 13.42, 13.46, 13.28, 13.46, 13.37,\n",
    "        13.53, 13.43, 13.30, 13.45, 13.40, 13.45, 13.40, 13.33, 13.39,\n",
    "        13.56, 13.46, 13.26, 13.35, 13.42, 13.36, 13.44, 13.41, 13.43,\n",
    "        13.51, 13.51, 13.24, 13.34, 13.28, 13.37, 13.54, 13.43, 13.35,\n",
    "        13.52, 13.23, 13.48, 13.48, 13.54, 13.41, 13.51, 13.44, 13.36,\n",
    "        13.36, 13.53, 13.44, 13.69, 13.66, 13.32, 13.26, 13.51, 13.38, 13.46, 13.34])\n",
    "n = len(data)\n",
    "x_mean = data.sum() / n\n",
    "s = np.sqrt(np.sum((data-x_mean)**2)/(n-1))\n",
    "print(x_mean, s)"
   ]
  },
  {
   "cell_type": "code",
   "execution_count": 6,
   "id": "612f5925",
   "metadata": {},
   "outputs": [
    {
     "name": "stdout",
     "output_type": "stream",
     "text": [
      "Хи-квадрат статистика: 2.538525591248768\n",
      "p-value: 0.9599102068745518\n",
      "Нет оснований отвергнуть нулевую гипотезу о нормальном распределении данных\n"
     ]
    }
   ],
   "source": [
    "# Разбиение данных на интервалы\n",
    "bins = np.histogram_bin_edges(data, bins='auto')\n",
    "\n",
    "# Получение наблюдаемых частот\n",
    "observed_freq, _ = np.histogram(data, bins=bins)\n",
    "\n",
    "# Ожидаемые частоты из нормального распределения\n",
    "expected_freq = len(data) * np.diff(stats.norm.cdf((bins-x_mean)/s))\n",
    "\n",
    "# Приведение ожидаемых частот к сумме, равной сумме наблюдаемых\n",
    "expected_freq *= np.sum(observed_freq) / np.sum(expected_freq)\n",
    "\n",
    "# Применение хи-квадрат теста\n",
    "statistic, p_value = stats.chisquare(observed_freq, expected_freq, ddof=2)\n",
    "\n",
    "alpha = 0.05  # Уровень значимости\n",
    "\n",
    "print(f\"Хи-квадрат статистика: {statistic}\")\n",
    "print(f\"p-value: {p_value}\")\n",
    "\n",
    "if p_value < alpha:\n",
    "    print(\"Отвергаем нулевую гипотезу: данные не имеют нормальное распределение\")\n",
    "else:\n",
    "    print(\"Нет оснований отвергнуть нулевую гипотезу о нормальном распределении данных\")"
   ]
  },
  {
   "cell_type": "code",
   "execution_count": 7,
   "id": "cccfdcc5",
   "metadata": {},
   "outputs": [
    {
     "data": {
      "image/png": "[encoded data removed]",
      "text/plain": [
       "<Figure size 640x480 with 1 Axes>"
      ]
     },
     "metadata": {},
     "output_type": "display_data"
    }
   ],
   "source": [
    "diap = []\n",
    "for i in range(len(bins)-1):\n",
    "    diap.append((bins[i]+bins[i+1])/2)\n",
    "x = np.arange(12, 15, 3/200)\n",
    "plt.plot(x, stats.norm.pdf(x, x_mean, s))\n",
    "plt.scatter(diap, 19*observed_freq/n)\n",
    "plt.grid()"
   ]
  },
  {
   "cell_type": "markdown",
   "id": "25532756",
   "metadata": {},
   "source": [
    "### 4. Примеры проверки простой гипотезы о распределении\n",
    "**Пример 2.** Проверим генератор случайных чисел. Сгенерируем выборку заданного объема с заданным законом распределения ($R[0, 5], n=130$), и по полученным результатам проверим гипотезу о согласии данных с этим распределением."
   ]
  },
  {
   "cell_type": "code",
   "execution_count": 8,
   "id": "c46b6996",
   "metadata": {},
   "outputs": [
    {
     "name": "stdout",
     "output_type": "stream",
     "text": [
      "Хи-квадрат статистика: 9.015384615384612\n",
      "p-value: 0.1727146979564395\n",
      "Нет оснований отвергнуть нулевую гипотезу о равномерном распределении данных\n"
     ]
    }
   ],
   "source": [
    "data = np.random.uniform(0, 5, 130)\n",
    "\n",
    "# Разбиение данных на интервалы\n",
    "bins = np.histogram_bin_edges(data, bins='auto')\n",
    "\n",
    "# Получение наблюдаемых частот\n",
    "observed_freq, _ = np.histogram(data, bins=bins)\n",
    "\n",
    "# Ожидаемые частоты из равномерного распределения\n",
    "expected_freq = len(data) * np.diff(stats.uniform.cdf(bins/np.max(data)))\n",
    "\n",
    "# Приведение ожидаемых частот к сумме, равной сумме наблюдаемых\n",
    "expected_freq *= np.sum(observed_freq) / np.sum(expected_freq)\n",
    "\n",
    "# Применение хи-квадрат теста\n",
    "statistic, p_value = stats.chisquare(observed_freq, expected_freq, ddof=2)\n",
    "\n",
    "alpha = 0.05  # Уровень значимости\n",
    "\n",
    "print(f\"Хи-квадрат статистика: {statistic}\")\n",
    "print(f\"p-value: {p_value}\")\n",
    "\n",
    "if p_value < alpha:\n",
    "    print(\"Отвергаем нулевую гипотезу: данные не имеют равномерное распределение\")\n",
    "else:\n",
    "    print(\"Нет оснований отвергнуть нулевую гипотезу о равномерном распределении данных\")"
   ]
  },
  {
   "cell_type": "markdown",
   "id": "a86905e6",
   "metadata": {},
   "source": [
    "**Пример 3.** В опытах по генетике Мендель наблюдал частоты появления различных видов семян, получаемых при скрещивании гороха с круглыми желтыми и с морщинистыми зелеными семенами. Частоты приведены в таблице вместе с теоретическими вероятностями."
   ]
  },
  {
   "cell_type": "code",
   "execution_count": 9,
   "id": "dded8e05",
   "metadata": {},
   "outputs": [
    {
     "data": {
      "text/html": [
       "<div>\n",
       "<style scoped>\n",
       "    .dataframe tbody tr th:only-of-type {\n",
       "        vertical-align: middle;\n",
       "    }\n",
       "\n",
       "    .dataframe tbody tr th {\n",
       "        vertical-align: top;\n",
       "    }\n",
       "\n",
       "    .dataframe thead th {\n",
       "        text-align: right;\n",
       "    }\n",
       "</style>\n",
       "<table border=\"1\" class=\"dataframe\">\n",
       "  <thead>\n",
       "    <tr style=\"text-align: right;\">\n",
       "      <th></th>\n",
       "      <th>Наблюдаемая частота</th>\n",
       "      <th>Теоретическая вероятность Pi</th>\n",
       "    </tr>\n",
       "  </thead>\n",
       "  <tbody>\n",
       "    <tr>\n",
       "      <th>Круглые и желтые</th>\n",
       "      <td>315</td>\n",
       "      <td>9/16</td>\n",
       "    </tr>\n",
       "    <tr>\n",
       "      <th>Морщинистые и желтые</th>\n",
       "      <td>101</td>\n",
       "      <td>3/16</td>\n",
       "    </tr>\n",
       "    <tr>\n",
       "      <th>Круглые и зеленые</th>\n",
       "      <td>108</td>\n",
       "      <td>3/16</td>\n",
       "    </tr>\n",
       "    <tr>\n",
       "      <th>Морщинистые и зеленые</th>\n",
       "      <td>32</td>\n",
       "      <td>1/16</td>\n",
       "    </tr>\n",
       "    <tr>\n",
       "      <th>Сумма</th>\n",
       "      <td>n=556</td>\n",
       "      <td>P=1</td>\n",
       "    </tr>\n",
       "  </tbody>\n",
       "</table>\n",
       "</div>"
      ],
      "text/plain": [
       "                      Наблюдаемая частота Теоретическая вероятность Pi\n",
       "Круглые и желтые                      315                         9/16\n",
       "Морщинистые и желтые                  101                         3/16\n",
       "Круглые и зеленые                     108                         3/16\n",
       "Морщинистые и зеленые                  32                         1/16\n",
       "Сумма                               n=556                          P=1"
      ]
     },
     "execution_count": 9,
     "metadata": {},
     "output_type": "execute_result"
    }
   ],
   "source": [
    "pd.DataFrame([[315, '9/16'], [101, '3/16'], [108, '3/16'], [32, '1/16'], ['n=556', 'P=1']],\n",
    "             columns=['Наблюдаемая частота', 'Теоретическая вероятность Pi'],\n",
    "             index=['Круглые и желтые', 'Морщинистые и желтые', 'Круглые и зеленые', 'Морщинистые и зеленые', 'Сумма'])"
   ]
  },
  {
   "cell_type": "code",
   "execution_count": 10,
   "id": "9661b0b7",
   "metadata": {},
   "outputs": [
    {
     "name": "stdout",
     "output_type": "stream",
     "text": [
      "Хи-квадрат статистика: 0.4700239808153477\n",
      "p-value: 0.925425895103616\n",
      "Не удалось отвергнуть нулевую гипотезу: данные хорошо согласуются с теоретическими\n"
     ]
    }
   ],
   "source": [
    "observed_freq = np.array([315, 101, 108, 32])\n",
    "\n",
    "# Ожидаемые частоты\n",
    "expected_freq = observed_freq.sum() * np.array([9/16, 3/16, 3/16, 1/16])\n",
    "\n",
    "# Применение хи-квадрат теста\n",
    "statistic, p_value = stats.chisquare(observed_freq, expected_freq)\n",
    "\n",
    "alpha = 0.05  # Уровень значимости\n",
    "\n",
    "print(f\"Хи-квадрат статистика: {statistic}\")\n",
    "print(f\"p-value: {p_value}\")\n",
    "\n",
    "if p_value < alpha:\n",
    "    print(\"Отвергаем нулевую гипотезу: полученные данные отличаются от теоретических\")\n",
    "else:\n",
    "    print(\"Не удалось отвергнуть нулевую гипотезу: данные хорошо согласуются с теоретическими\")"
   ]
  },
  {
   "cell_type": "markdown",
   "id": "633f7c33",
   "metadata": {},
   "source": [
    "### 5. Проверка гипотезы о независимости признаков (таблица сопряженности признаков)\n",
    "Предположим, имеется большая совокупность объектов, каждый из которых обладает двумя признаками $A$ и $B$; признак $A$ имеет $m$ уровней: $A_1,..., A_m$, а признак $B$ - k уровней: $B_1, ..., B_k$. Пусть уровень $A_i$ встречается с вероятностью $P(A_i)$, а уровень $B_j$ - с вероятностью $P(B_j)$. Признаки $A$ и $B$ независимы, если\n",
    "$$\n",
    "P(A_i B_j) = P(A_i) \\cdot P(B_j)m, i=1,...,m, j=1,...,k,\n",
    "$$\n",
    "то есть вероятность встретить комбинацию $A_i B_j$ равна произведению вероятностей. Пусть признаки определены на $n$ объектах, случайно извлеченных из совокупности; $\\nu_{ij}$ - число объектов, имеющих комбинацию $A_i B_j$, $\\sum\\limits_{i=1}^m \\sum\\limits_{j=1}^k \\nu_{ij} = n$.  \n",
    "По совокупности наблюдейний ($\\nu_{ij}$) (таблица $m \\cdot k$) требуется проверить гипотезу $H$ о независимости признаков $A$ и $B$. Задача сводится к случаю с неизвестными параметрами; ими являются вероятности\n",
    "$$\n",
    "P(A_i), i=1,...,m; P(B_j), j=1,...,k,\n",
    "$$\n",
    "всего $(m-1) + (k-1)$; их оценки:\n",
    "$$\n",
    "P^{\\text{^}}(A_i) = {\\sum\\limits_{j=1}^k \\nu_{ij}\\over{n}} = {\\nu_{i\\cdot}\\over{n}}, P^{\\text{^}}(B_j) = {\\sum\\limits_{i=1}^m \\nu_{ij}\\over{n}} = {\\nu_{\\cdot j}\\over{n}}\n",
    "$$\n",
    "(в обозначениях точка означает суммирвоание по соответствующему индексу), и статистика принимает вид:\n",
    "$$\n",
    "\\overline{X^2} = \\sum\\limits_{i=1}^m \\sum\\limits_{j=1}^k {\\nu_{ij}^2\\over{nP^{\\text{^}}(A_i)P^{\\text{^}}(B_j)}} - n = n\\big( \\sum\\limits_{i=1}^m \\sum\\limits_{j=1}^k {\\nu_{ij}^2\\over{\\nu_{i\\cdot} \\nu_{\\cdot j}}} - 1 \\big).\n",
    "$$\n",
    "Если гипотеза $H$ верна, то по теореме Фишера $\\overline{X^2}$ асимптотически распределена по закону хи-квадрат с числом степеней свободы\n",
    "$$\n",
    "f = mk - 1 - (m-1) - (k-1) = (m-1)(k-1),\n",
    "$$\n",
    "и потому, если \n",
    "$$\n",
    "P(\\chi_f^2 \\ge \\overline{X^2}) \\le \\alpha,\n",
    "$$\n",
    "то гипотезу о независимости признаков следует отклонить. Можно проверять независимость двух случайных величин, разбив диапазоны их значений на m и k частей.  \n",
    "**Пример 4.** Данные, собранные по ряду школ, относительно физических недостатков школьников (P1, P2, P3 - признак А) и дефектов речи (S1, S2, S3 - признак В) приведены в таблице. В другой таблице даны частоты комбинаций $P_iS_j$, $i, j = 1, 2, 3$. Уровень значимости принять равным 0.001."
   ]
  },
  {
   "cell_type": "code",
   "execution_count": 11,
   "id": "74d6422a",
   "metadata": {},
   "outputs": [
    {
     "data": {
      "text/html": [
       "<div>\n",
       "<style scoped>\n",
       "    .dataframe tbody tr th:only-of-type {\n",
       "        vertical-align: middle;\n",
       "    }\n",
       "\n",
       "    .dataframe tbody tr th {\n",
       "        vertical-align: top;\n",
       "    }\n",
       "\n",
       "    .dataframe thead th {\n",
       "        text-align: right;\n",
       "    }\n",
       "</style>\n",
       "<table border=\"1\" class=\"dataframe\">\n",
       "  <thead>\n",
       "    <tr style=\"text-align: right;\">\n",
       "      <th></th>\n",
       "      <th>S1</th>\n",
       "      <th>S2</th>\n",
       "      <th>S3</th>\n",
       "      <th>Сумма</th>\n",
       "    </tr>\n",
       "  </thead>\n",
       "  <tbody>\n",
       "    <tr>\n",
       "      <th>P1</th>\n",
       "      <td>45</td>\n",
       "      <td>26</td>\n",
       "      <td>12</td>\n",
       "      <td>83</td>\n",
       "    </tr>\n",
       "    <tr>\n",
       "      <th>P2</th>\n",
       "      <td>32</td>\n",
       "      <td>50</td>\n",
       "      <td>21</td>\n",
       "      <td>103</td>\n",
       "    </tr>\n",
       "    <tr>\n",
       "      <th>P3</th>\n",
       "      <td>4</td>\n",
       "      <td>10</td>\n",
       "      <td>17</td>\n",
       "      <td>31</td>\n",
       "    </tr>\n",
       "    <tr>\n",
       "      <th>Сумма</th>\n",
       "      <td>81</td>\n",
       "      <td>86</td>\n",
       "      <td>50</td>\n",
       "      <td>217</td>\n",
       "    </tr>\n",
       "  </tbody>\n",
       "</table>\n",
       "</div>"
      ],
      "text/plain": [
       "       S1  S2  S3  Сумма\n",
       "P1     45  26  12     83\n",
       "P2     32  50  21    103\n",
       "P3      4  10  17     31\n",
       "Сумма  81  86  50    217"
      ]
     },
     "execution_count": 11,
     "metadata": {},
     "output_type": "execute_result"
    }
   ],
   "source": [
    "pd.DataFrame([[45, 26, 12, 83], [32, 50, 21, 103], [4, 10, 17, 31], [81, 86, 50, 217]],\n",
    "             columns=['S1', 'S2', 'S3', 'Сумма'],\n",
    "             index=['P1', 'P2', 'P3', 'Сумма'])"
   ]
  },
  {
   "cell_type": "code",
   "execution_count": 12,
   "id": "35d453a2",
   "metadata": {},
   "outputs": [
    {
     "name": "stdout",
     "output_type": "stream",
     "text": [
      "Хи-квадрат статистика: 32.884269238549074\n",
      "p-значение: 1.2614536514186429e-06\n",
      "Степени свободы: 4\n",
      "Отклоняем нулевую гипотезу: зависимости есть\n"
     ]
    }
   ],
   "source": [
    "observed = np.array([[45, 26, 12],\n",
    "                     [32, 50, 21],\n",
    "                     [4, 10, 17]])\n",
    "chi2, p, dof, expected = stats.chi2_contingency(observed)\n",
    "alpha = 0.001\n",
    "\n",
    "print(f\"Хи-квадрат статистика: {chi2}\")\n",
    "print(f\"p-значение: {p}\")\n",
    "print(f\"Степени свободы: {dof}\")\n",
    "if p < alpha:\n",
    "    print('Отклоняем нулевую гипотезу: зависимости есть')\n",
    "else:\n",
    "    print('Нет оснований отклонить нулевую гипотезу о независимости признаков')"
   ]
  },
  {
   "cell_type": "markdown",
   "id": "881c287c",
   "metadata": {},
   "source": [
    "### 6. Проверка гипотезы об однородности выборок\n",
    "Пусть имеется $m$ выборок объемами $n_1, ..., n_m$, извлеченных из различных совокупностей. Измеряемая величина в каждо йиз выборок может иметь k уровней $B_1, ..., B_k$. Требуется проверить гипотезу о том, что исходные совокупности распределены одинаково. Обозначим $\\nu_{ij}$ - число наблюдений в i-й выборке, имеющих уровень $B_j$, $\\sum\\limits_{j} \\nu_{ij} = \\nu_{i\\cdot} = n_i$. Имеем табилцу $m\\cdot k$ наблюдений, аналогино предыдущему пункту 5. Можно показать, что для проверки гипотезы справедлива процедура из пункта 5.  \n",
    "**Пример 5.** Имеются данные о наличии примесей серы в углеродистой стали, выплавляемой двумя заводами (см. таблицу). Проверим гипотезу о том, что распределения содержания серы (нежелательный фактор) одинаковы на этих заводах."
   ]
  },
  {
   "cell_type": "code",
   "execution_count": 13,
   "id": "ba2949af",
   "metadata": {},
   "outputs": [
    {
     "data": {
      "text/html": [
       "<div>\n",
       "<style scoped>\n",
       "    .dataframe tbody tr th:only-of-type {\n",
       "        vertical-align: middle;\n",
       "    }\n",
       "\n",
       "    .dataframe tbody tr th {\n",
       "        vertical-align: top;\n",
       "    }\n",
       "\n",
       "    .dataframe thead th {\n",
       "        text-align: right;\n",
       "    }\n",
       "</style>\n",
       "<table border=\"1\" class=\"dataframe\">\n",
       "  <thead>\n",
       "    <tr style=\"text-align: right;\">\n",
       "      <th></th>\n",
       "      <th>0-2</th>\n",
       "      <th>2-4</th>\n",
       "      <th>4-6</th>\n",
       "      <th>6-8</th>\n",
       "      <th>Сумма</th>\n",
       "    </tr>\n",
       "  </thead>\n",
       "  <tbody>\n",
       "    <tr>\n",
       "      <th>Завод 1</th>\n",
       "      <td>82</td>\n",
       "      <td>535</td>\n",
       "      <td>1173</td>\n",
       "      <td>1714</td>\n",
       "      <td>3504</td>\n",
       "    </tr>\n",
       "    <tr>\n",
       "      <th>Завод 2</th>\n",
       "      <td>63</td>\n",
       "      <td>429</td>\n",
       "      <td>995</td>\n",
       "      <td>1307</td>\n",
       "      <td>2794</td>\n",
       "    </tr>\n",
       "    <tr>\n",
       "      <th>Сумма</th>\n",
       "      <td>145</td>\n",
       "      <td>964</td>\n",
       "      <td>2168</td>\n",
       "      <td>3021</td>\n",
       "      <td></td>\n",
       "    </tr>\n",
       "  </tbody>\n",
       "</table>\n",
       "</div>"
      ],
      "text/plain": [
       "         0-2  2-4   4-6   6-8 Сумма\n",
       "Завод 1   82  535  1173  1714  3504\n",
       "Завод 2   63  429   995  1307  2794\n",
       "Сумма    145  964  2168  3021      "
      ]
     },
     "execution_count": 13,
     "metadata": {},
     "output_type": "execute_result"
    }
   ],
   "source": [
    "pd.DataFrame([[82, 535, 1173, 1714, 3504], [63, 429, 995, 1307, 2794], [145, 964, 2168, 3021, '']],\n",
    "             columns=['0-2', '2-4', '4-6', '6-8', 'Сумма'],\n",
    "             index=['Завод 1', 'Завод 2', 'Сумма'])"
   ]
  },
  {
   "cell_type": "code",
   "execution_count": 14,
   "id": "46d124b2",
   "metadata": {},
   "outputs": [
    {
     "name": "stdout",
     "output_type": "stream",
     "text": [
      "Хи-квадрат статистика: 3.596579754533992\n",
      "p-значение: 0.3084503814707133\n",
      "Степени свободы: 3\n",
      "Нет оснований отклонить нулевую гипотезу: нет оснований считать, что содержание серы в стали этих заводов имеют различные распределения\n"
     ]
    }
   ],
   "source": [
    "observed = [[82, 535, 1173, 1714],\n",
    "            [63, 429, 995, 1307]]\n",
    "chi2, p, dof, expected = stats.chi2_contingency(observed)\n",
    "alpha = 0.05\n",
    "\n",
    "print(f\"Хи-квадрат статистика: {chi2}\")\n",
    "print(f\"p-значение: {p}\")\n",
    "print(f\"Степени свободы: {dof}\")\n",
    "if p < alpha:\n",
    "    print('Отклоняем нулевую гипотезу: на заводах отличается содержание серы в стали')\n",
    "else:\n",
    "    print('Нет оснований отклонить нулевую гипотезу: нет оснований считать,',\n",
    "          'что содержание серы в стали этих заводов имеют различные распределения')"
   ]
  },
  {
   "cell_type": "markdown",
   "id": "36009328",
   "metadata": {},
   "source": [
    "### 7. Задание\n",
    "Проверить гипотезу о типе распределения на основе сгенерированной по заданному закону ($N(0, 1)$) и выборке объема $n=80$. Проверить три гипотезы: о нормальности, о равномерности и о показательности."
   ]
  },
  {
   "cell_type": "code",
   "execution_count": 15,
   "id": "aa7bff46",
   "metadata": {},
   "outputs": [
    {
     "name": "stdout",
     "output_type": "stream",
     "text": [
      "Хи-квадрат статистика: 16.35070080988301\n",
      "p-value: 0.0220984848475421\n",
      "Отвергаем нулевую гипотезу: данные не имеют нормальное распределение\n"
     ]
    }
   ],
   "source": [
    "# Проверка гипотезы о нормальности\n",
    "data = np.random.normal(0, 1, 80)\n",
    "n = len(data)\n",
    "x_mean = data.sum() / n\n",
    "s = np.sqrt(np.sum((data-x_mean)**2)/(n-1))\n",
    "\n",
    "\n",
    "# Разбиение данных на интервалы\n",
    "bins = np.histogram_bin_edges(data, bins='auto')\n",
    "\n",
    "# Получение наблюдаемых частот\n",
    "observed_freq, _ = np.histogram(data, bins=bins)\n",
    "\n",
    "# Ожидаемые частоты из нормального распределения\n",
    "expected_freq = len(data) * np.diff(stats.norm.cdf((bins-x_mean)/s))\n",
    "\n",
    "# Приведение ожидаемых частот к сумме, равной сумме наблюдаемых\n",
    "expected_freq *= np.sum(observed_freq) / np.sum(expected_freq)\n",
    "\n",
    "# Применение хи-квадрат теста\n",
    "statistic, p_value = stats.chisquare(observed_freq, expected_freq, ddof=2)\n",
    "\n",
    "alpha = 0.05  # Уровень значимости\n",
    "\n",
    "print(f\"Хи-квадрат статистика: {statistic}\")\n",
    "print(f\"p-value: {p_value}\")\n",
    "\n",
    "if p_value < alpha:\n",
    "    print(\"Отвергаем нулевую гипотезу: данные не имеют нормальное распределение\")\n",
    "else:\n",
    "    print(\"Не удалось отвергнуть нулевую гипотезу о нормальном распределении данных\")"
   ]
  },
  {
   "cell_type": "code",
   "execution_count": 16,
   "id": "da432829",
   "metadata": {},
   "outputs": [
    {
     "name": "stdout",
     "output_type": "stream",
     "text": [
      "Хи-квадрат статистика: inf\n",
      "p-value: 0.0\n",
      "Отвергаем нулевую гипотезу: данные не имеют равномерное распределение\n"
     ]
    },
    {
     "name": "stderr",
     "output_type": "stream",
     "text": [
      "C:\\Users\\assas\\anaconda3\\lib\\site-packages\\scipy\\stats\\_stats_py.py:7160: RuntimeWarning: divide by zero encountered in true_divide\n",
      "  terms = (f_obs_float - f_exp)**2 / f_exp\n"
     ]
    }
   ],
   "source": [
    "# Проверка гипотезы о равномерности\n",
    "data = np.random.normal(0, 1, 80)\n",
    "n = len(data)\n",
    "x_mean = data.sum() / n\n",
    "s = np.sqrt(np.sum((data-x_mean)**2)/(n-1))\n",
    "\n",
    "# Разбиение данных на интервалы\n",
    "bins = np.histogram_bin_edges(data, bins='auto')\n",
    "\n",
    "# Получение наблюдаемых частот\n",
    "observed_freq, _ = np.histogram(data, bins=bins)\n",
    "\n",
    "# Ожидаемые частоты из равномерного распределения\n",
    "expected_freq = len(data) * np.diff(stats.uniform.cdf(bins/np.max(data)))\n",
    "\n",
    "# Приведение ожидаемых частот к сумме, равной сумме наблюдаемых\n",
    "expected_freq *= np.sum(observed_freq) / np.sum(expected_freq)\n",
    "\n",
    "# Применение хи-квадрат теста\n",
    "statistic, p_value = stats.chisquare(observed_freq, expected_freq, ddof=2)\n",
    "\n",
    "alpha = 0.05  # Уровень значимости\n",
    "\n",
    "print(f\"Хи-квадрат статистика: {statistic}\")\n",
    "print(f\"p-value: {p_value}\")\n",
    "\n",
    "if p_value < alpha:\n",
    "    print(\"Отвергаем нулевую гипотезу: данные не имеют равномерное распределение\")\n",
    "else:\n",
    "    print(\"Не удалось отвергнуть нулевую гипотезу о равномерном распределении данных\")"
   ]
  },
  {
   "cell_type": "code",
   "execution_count": 17,
   "id": "a3c23d98",
   "metadata": {},
   "outputs": [
    {
     "name": "stdout",
     "output_type": "stream",
     "text": [
      "Хи-квадрат статистика: nan\n",
      "p-value: nan\n",
      "Не удалось отвергнуть нулевую гипотезу об экспоненциальном распределении данных\n"
     ]
    }
   ],
   "source": [
    "# Проверка гипотезы о показательности\n",
    "data = np.random.normal(0, 1, 80)\n",
    "n = len(data)\n",
    "x_mean = data.sum() / n\n",
    "s = np.sqrt(np.sum((data-x_mean)**2)/(n-1))\n",
    "\n",
    "# Разбиение данных на интервалы\n",
    "bins = np.histogram_bin_edges(data, bins='auto')\n",
    "\n",
    "# Получение наблюдаемых частот\n",
    "observed_freq, _ = np.histogram(data, bins=bins)\n",
    "\n",
    "# Ожидаемые частоты из экспоненциального распределения\n",
    "expected_freq = len(data) * np.diff(stats.expon.cdf(bins, scale=x_mean))\n",
    "\n",
    "# Приведение ожидаемых частот к сумме, равной сумме наблюдаемых\n",
    "expected_freq *= np.sum(observed_freq) / np.sum(expected_freq)\n",
    "\n",
    "# Применение хи-квадрат теста\n",
    "statistic, p_value = stats.chisquare(observed_freq, expected_freq)\n",
    "\n",
    "alpha = 0.05  # Уровень значимости\n",
    "\n",
    "print(f\"Хи-квадрат статистика: {statistic}\")\n",
    "print(f\"p-value: {p_value}\")\n",
    "\n",
    "if p_value < alpha:\n",
    "    print(\"Отвергаем нулевую гипотезу: данные не имеют экспоненциальное распределение\")\n",
    "else:\n",
    "    print(\"Не удалось отвергнуть нулевую гипотезу об экспоненциальном распределении данных\")"
   ]
  },
  {
   "cell_type": "markdown",
   "id": "78ff3686",
   "metadata": {},
   "source": [
    "**Проверить гипотезу об однородности трех выборок**\n",
    "Сгенерировать три выборки объемами $n_1 = 180$, $n_2 = 100$, $n_3 = 120$ для заданного распределения ($N(a, 1)$). Провести их группирование на 8 ÷ 10 интервалах. Сделать все для 2-х вариантов:  \n",
    "а) Параметры одинаковы: $a_1 = a_2 = a_3 = 10$  \n",
    "б) Параметры различны: $a_1 = 9.8$, $a_2 = 10$, $a_3 = 11.2$"
   ]
  },
  {
   "cell_type": "code",
   "execution_count": 18,
   "id": "a35e92d2",
   "metadata": {},
   "outputs": [
    {
     "name": "stdout",
     "output_type": "stream",
     "text": [
      "Статистика хи-квадрат: 22.04976414451616\n",
      "p-значение: 0.008722591624893774\n",
      "Гипотеза об однородности отвергается\n"
     ]
    }
   ],
   "source": [
    "# Генерация выборок для варианта а) с параметрами a1 = a2 = a3 = 10\n",
    "a1 = a2 = a3 = 10\n",
    "n1, n2, n3 = 180, 100, 120\n",
    "\n",
    "sample1 = np.random.normal(a1, 1, n1)\n",
    "sample2 = np.random.normal(a2, 1, n2)\n",
    "sample3 = np.random.normal(a3, 1, n3)\n",
    "samples = [sample1, sample2, sample3]\n",
    "x_mean = (sample1.mean() + sample2.mean() + sample3.mean()) / 3\n",
    "\n",
    "bins = np.histogram_bin_edges(sample1, bins=10)\n",
    "\n",
    "intervals = np.array([np.histogram(sample, bins=bins)[0] for sample in samples])\n",
    "observed = intervals[0] + intervals[1] + intervals[2]\n",
    "\n",
    "expected = np.histogram(np.random.normal(x_mean, 1, n1+n2+n3), bins=bins)[0]\n",
    "expected = expected * (np.sum(observed) / np.sum(expected))\n",
    "\n",
    "statistic, p_value = stats.chisquare(observed, expected)\n",
    "\n",
    "print(f\"Статистика хи-квадрат: {statistic}\")\n",
    "print(f\"p-значение: {p_value}\")\n",
    "\n",
    "alpha = 0.05\n",
    "if p_value < alpha:\n",
    "    print('Гипотеза об однородности отвергается')\n",
    "else:\n",
    "    print('Гипотеза об однородности не отвергается')"
   ]
  },
  {
   "cell_type": "code",
   "execution_count": 19,
   "id": "e0854327",
   "metadata": {},
   "outputs": [
    {
     "name": "stdout",
     "output_type": "stream",
     "text": [
      "Статистика хи-квадрат: 32.761664614053856\n",
      "p-значение: 0.00014692980983433616\n",
      "Гипотеза об однородности отвергается\n"
     ]
    }
   ],
   "source": [
    "# Генерация выборок для варианта б) с параметрами a1 = 9.8, a2 = 10, a3 = 11.2\n",
    "a1 = 9.8\n",
    "a2 = 10\n",
    "a3 = 11.2\n",
    "n1, n2, n3 = 180, 100, 120\n",
    "\n",
    "sample1 = np.random.normal(a1, 1, n1)\n",
    "sample2 = np.random.normal(a2, 1, n2)\n",
    "sample3 = np.random.normal(a3, 1, n3)\n",
    "samples = [sample1, sample2, sample3]\n",
    "x_mean = (sample1.mean() + sample2.mean() + sample3.mean()) / 3\n",
    "\n",
    "bins = np.histogram_bin_edges(sample1, bins=10)\n",
    "\n",
    "intervals = np.array([np.histogram(sample, bins=bins)[0] for sample in samples])\n",
    "observed = intervals[0] + intervals[1] + intervals[2]\n",
    "\n",
    "expected = np.histogram(np.random.normal(x_mean, 1, n1+n2+n3), bins=bins)[0]\n",
    "expected = expected * (np.sum(observed) / np.sum(expected))\n",
    "\n",
    "statistic, p_value = stats.chisquare(observed, expected)\n",
    "\n",
    "print(f\"Статистика хи-квадрат: {statistic}\")\n",
    "print(f\"p-значение: {p_value}\")\n",
    "\n",
    "alpha = 0.05\n",
    "if p_value < alpha:\n",
    "    print('Гипотеза об однородности отвергается')\n",
    "else:\n",
    "    print('Гипотеза об однородности не отвергается')"
   ]
  },
  {
   "cell_type": "code",
   "execution_count": null,
   "id": "5c37778f",
   "metadata": {},
   "outputs": [],
   "source": []
  }
 ],
 "metadata": {
  "kernelspec": {
   "display_name": "Python 3 (ipykernel)",
   "language": "python",
   "name": "python3"
  },
  "language_info": {
   "codemirror_mode": {
    "name": "ipython",
    "version": 3
   },
   "file_extension": ".py",
   "mimetype": "text/x-python",
   "name": "python",
   "nbconvert_exporter": "python",
   "pygments_lexer": "ipython3",
   "version": "3.9.13"
  }
 },
 "nbformat": 4,
 "nbformat_minor": 5
}
