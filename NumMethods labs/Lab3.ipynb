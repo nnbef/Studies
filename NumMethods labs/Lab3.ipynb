{
 "cells": [
  {
   "cell_type": "markdown",
   "id": "f1528f0d",
   "metadata": {},
   "source": [
    "# Лабораторная работа №3. Решение систем линейных алгебраических уравнений прямыми методами. Теория возмущений\n",
    "## Бегунов Никита\n",
    "## А-13б-20\n",
    "### Вариант 21"
   ]
  },
  {
   "cell_type": "code",
   "execution_count": 1,
   "id": "631ee1fc",
   "metadata": {},
   "outputs": [],
   "source": [
    "import numpy as np\n",
    "import matplotlib.pyplot as plt"
   ]
  },
  {
   "cell_type": "markdown",
   "id": "74fed589",
   "metadata": {},
   "source": [
    "## Задача 1 \n",
    "**Задание:** Реализовать решение СЛАУ с помощью LU разложения и LU разложения по схеме частичного выбора. Решить систему небольшой размерности с возмущенной матрицуй обоими методами, оценить погрешность и сравнить с теоретической оценкой. Проанализировать поведение методов с ростом числа уравнений.  \n",
    "N = 21, K = 2  \n",
    "\n",
    "1. Реализовать метод решения СЛАУ с помощью LU разложения в виде, указанном в приложении (решение с помощью LU модифицирует исходную матрицу А). Убедиться в его работоспособности."
   ]
  },
  {
   "cell_type": "code",
   "execution_count": 2,
   "id": "05c9b452",
   "metadata": {},
   "outputs": [
    {
     "name": "stdout",
     "output_type": "stream",
     "text": [
      "[ 1. -2.  3.]\n"
     ]
    }
   ],
   "source": [
    "def LU_modifyA(A):\n",
    "    Ad = A.copy()\n",
    "    L = np.eye(len(Ad))\n",
    "    for j in range(len(Ad) - 1):\n",
    "        for i in range(j + 1, len(Ad[j])):\n",
    "            m = float(Ad[i][j] / Ad[j][j])\n",
    "            Ad[i] = Ad[i] - m * Ad[j]\n",
    "            L[i][j] = float(m)\n",
    "    for i in range(1, len(L)):\n",
    "        for j in range(i):\n",
    "            Ad[i][j] = float(L[i][j])\n",
    "    return Ad;\n",
    "\n",
    "def SolveLU_modifyA(A, b):\n",
    "    y = np.arange(len(b), dtype = float)\n",
    "    x = np.arange(len(b), dtype = float)\n",
    "    for i in range(len(b)):\n",
    "        y[i] = float(b[i])\n",
    "        for j in range(i):\n",
    "            y[i] -= float(A[i][j]) * float(y[j])\n",
    "    for i in range(len(b) - 1, -1, -1):\n",
    "        x[i] = float(y[i])\n",
    "        for j in range(len(b) - 1, i, -1):\n",
    "            x[i] -= float(A[i][j] * x[j])\n",
    "        x[i] /= A[i][i]\n",
    "    return x\n",
    "\n",
    "##Проверка на простом примере из лекции\n",
    "A = np.array([[9, 5, 3],\n",
    "              [-81, -50, -25],\n",
    "              [45, 55, 7]])\n",
    "b = np.array([8, -56, -44])\n",
    "x = LU_modifyA(A)\n",
    "print(SolveLU_modifyA(x, b))"
   ]
  },
  {
   "cell_type": "markdown",
   "id": "bcd2a5bc",
   "metadata": {},
   "source": [
    "2. Реализовать метод решения СЛАУ с помощью LU разложения по схеме частичного выбора в виде, указанном в приложении (решение с помощью LU по схеме частичного выбора реализовано в виде двух функций, одна из которых возвращает две матрицы – L и U, не модифицируя A, а вторая функция решает систему). Убедиться в его работоспособности."
   ]
  },
  {
   "cell_type": "code",
   "execution_count": 3,
   "id": "695242c2",
   "metadata": {},
   "outputs": [
    {
     "name": "stdout",
     "output_type": "stream",
     "text": [
      "[ 1. -2.  3.]\n"
     ]
    }
   ],
   "source": [
    "def LU_partial(A):\n",
    "    L = np.eye(len(A))\n",
    "    U = np.copy(A)\n",
    "    P = np.eye(len(A))\n",
    "    for k in range(len(A) - 1):\n",
    "        p_k = np.eye(len(A))\n",
    "        u_k = np.eye(len(A))\n",
    "        l_k = np.eye(len(A))\n",
    "        max = U[k][k].copy()\n",
    "        imax = k\n",
    "        for i in range (k + 1, len(A)):\n",
    "            if np.abs(max) < np.abs(U[i][k]):\n",
    "                max = U[i][k].copy()\n",
    "                imax = i\n",
    "        temp = np.copy(p_k[imax])\n",
    "        p_k[imax] = np.copy(p_k[k])\n",
    "        p_k[k] = temp\n",
    "        U = p_k.dot(U)\n",
    "        for i in range(k + 1, len(A)):\n",
    "            m = float(U[i][k] / U[k][k])\n",
    "            u_k[i][k] = -m\n",
    "            l_k[i][k] = m\n",
    "        U = u_k.dot(U)\n",
    "        P = p_k.dot(P)\n",
    "        L = L.dot(p_k).dot(l_k)\n",
    "    L = P.dot(L)\n",
    "    return L, U, P\n",
    "\n",
    "def SolveLU_partial(L, U, P, b):\n",
    "    b = P.dot(b)\n",
    "    y = np.zeros(len(L))\n",
    "    x = np.zeros(len(L))\n",
    "\n",
    "    for i in range(len(b)):\n",
    "        y[i] = b[i]\n",
    "        for j in range(i):\n",
    "            y[i] -= L[i][j] * y[j]\n",
    "    for i in range(len(b) -1 , -1, -1):\n",
    "        x[i] = y[i]\n",
    "        for j in range(len(L) - 1, i, -1):\n",
    "            x[i] -= U[i][j] * x[j]\n",
    "        x[i] /= U[i][i]\n",
    "    return x\n",
    "\n",
    "##Проверка на простом примере из лекции\n",
    "A = np.array([[9, 5, 3],\n",
    "              [-81, -50, -25],\n",
    "              [45, 55, 7]], dtype = float)\n",
    "b = np.array([8, -56, -44])\n",
    "L, U, P = LU_partial(A)\n",
    "print(SolveLU_partial(L, U, P, b))"
   ]
  },
  {
   "cell_type": "markdown",
   "id": "a395717a",
   "metadata": {},
   "source": [
    "3. Решить систему $A^*x = b$, размера 5x5, двумя методами. Вектор $b$ задается как $b = Ax$, где $x_i = N$, N - номер варианта (21). Матрицу $A^*_{ij}$ задать как $A_{ij}$ и к одному элементу прибавить $10^{-3}$.  \n",
    "$A_{i,j} = arctan(0.1(10i + j + 1))$"
   ]
  },
  {
   "cell_type": "code",
   "execution_count": 4,
   "id": "e63a95ed",
   "metadata": {},
   "outputs": [
    {
     "name": "stdout",
     "output_type": "stream",
     "text": [
      "Метод LU разложения с модификацией матрицы A\n",
      "Точное решение системы\n",
      "[21.00000001 20.99999996 21.00000006 20.99999996 21.00000001]\n",
      "Решение возмущенной системы\n",
      "[2.50611323e+01 3.31772319e+00 4.98920956e+01 9.43010180e-03\n",
      " 2.67196099e+01]\n",
      "Метод LU разложения по схеме частичного выбора\n",
      "Точное решение системы\n",
      "[20.99999999 21.00000006 20.9999999  21.00000008 20.99999998]\n",
      "Решение возмущенной системы\n",
      "[2.50611323e+01 3.31772319e+00 4.98920956e+01 9.43010184e-03\n",
      " 2.67196099e+01]\n"
     ]
    }
   ],
   "source": [
    "A = np.eye(5)\n",
    "Am = np.eye(5)\n",
    "for i in range(5):\n",
    "    for j in range(5):\n",
    "        A[i][j] = np.arctan(0.1 * (10*i + j + 1))\n",
    "        Am[i][j] = np.arctan(0.1 * (10*i + j + 1))\n",
    "b = np.array([21, 21, 21, 21, 21])\n",
    "b = A.dot(b)\n",
    "Am[2][3] += 10**(-3)\n",
    "\n",
    "print(\"Метод LU разложения с модификацией матрицы A\")\n",
    "print(\"Точное решение системы\")\n",
    "print(SolveLU_modifyA(LU_modifyA(A), b))\n",
    "print(\"Решение возмущенной системы\")\n",
    "print(SolveLU_modifyA(LU_modifyA(Am), b))\n",
    "\n",
    "print(\"Метод LU разложения по схеме частичного выбора\")\n",
    "print(\"Точное решение системы\")\n",
    "L, U, P = LU_partial(A)\n",
    "print(SolveLU_partial(L, U, P, b))\n",
    "print(\"Решение возмущенной системы\")\n",
    "L, U, P = LU_partial(Am)\n",
    "print(SolveLU_partial(L, U, P, b))"
   ]
  },
  {
   "cell_type": "markdown",
   "id": "433cc4b2",
   "metadata": {},
   "source": [
    "4. Вычислить погрешность и сравнить ее с теоретической оценкой. Для вычисления обратной матрицы можно воспользоваться встроенными функциями."
   ]
  },
  {
   "cell_type": "code",
   "execution_count": 5,
   "id": "00e26dcf",
   "metadata": {},
   "outputs": [
    {
     "name": "stdout",
     "output_type": "stream",
     "text": [
      "Теоретическая оценка погрешности: δx < 12868.919303380377\n",
      "Погрешность:\n",
      "0.5790916430878649\n",
      "0.5790916430952443\n",
      "\n"
     ]
    }
   ],
   "source": [
    "def norm(x):\n",
    "    max = 0\n",
    "    for i in range(len(x)):\n",
    "        if np.abs(x[i]) > max:\n",
    "            max = np.abs(x[i])\n",
    "    return max\n",
    "\n",
    "def matrix_norm(A):\n",
    "    sum = 0\n",
    "    max = 0\n",
    "    for i in range(len(A)):\n",
    "        for j in range(len(A[i])):\n",
    "            sum += np.abs(A[i][j])\n",
    "        if sum > max:\n",
    "            max = sum\n",
    "        sum = 0\n",
    "    return max\n",
    "\n",
    "def delta_x(x, x_exact):\n",
    "    return norm(x - x_exact) / norm(x)\n",
    "\n",
    "def cond(A):\n",
    "    return matrix_norm(A) * matrix_norm(np.linalg.inv(A))\n",
    "\n",
    "def delta_x_theoretical(A):\n",
    "    return cond(A) * ((10**(-3)) / matrix_norm(A))\n",
    "\n",
    "#Точное решение системы\n",
    "x_exact = np.array([21, 21, 21, 21, 21])\n",
    "#Решение возмущенной системы\n",
    "x1 = SolveLU_modifyA(LU_modifyA(Am), b)\n",
    "L, U, P = LU_partial(Am)\n",
    "x2 = SolveLU_partial(L, U, P, b)\n",
    "\n",
    "dxt = delta_x_theoretical(A)\n",
    "print(f\"Теоретическая оценка погрешности: δx < {dxt}\")\n",
    "\n",
    "delx1 = delta_x(x1, x_exact)\n",
    "delx2 = delta_x(x2, x_exact)\n",
    "print(\"Погрешность:\")\n",
    "print(delx1)\n",
    "print(delx2)\n",
    "print()"
   ]
  },
  {
   "cell_type": "code",
   "execution_count": 6,
   "id": "0c3df49c",
   "metadata": {},
   "outputs": [],
   "source": [
    "dx1 = []\n",
    "dx2 = []\n",
    "for n in range(5, 16):\n",
    "    A = np.eye(n)\n",
    "    Am = np.eye(n)\n",
    "    b = np.empty(n)\n",
    "    x_exact = np.empty(n)\n",
    "    for i in range(n):\n",
    "        for j in range(n):\n",
    "            A[i][j] = np.arctan(0.1 * (10*i + j + 1))\n",
    "            Am[i][j] = np.arctan(0.1 * (10*i + j + 1))\n",
    "    for i in range(n):\n",
    "        b[i] = 21\n",
    "        x_exact[i] = 21\n",
    "    b = A.dot(b)\n",
    "    Am[2][3] += 10**(-3)\n",
    "    x1 = SolveLU_modifyA(LU_modifyA(Am), b)\n",
    "    dx1.append(delta_x(x1, x_exact))\n",
    "    L, U, P = LU_partial(Am)\n",
    "    x2 = SolveLU_partial(L, U, P, b)\n",
    "    dx2.append(delta_x(x2, x_exact))"
   ]
  },
  {
   "cell_type": "markdown",
   "id": "91d8ce79",
   "metadata": {},
   "source": [
    "6. Построить на одном графике погрешности обоих методов как функции, зависящие от n. Прокомменторовать полученный результат."
   ]
  },
  {
   "cell_type": "code",
   "execution_count": 7,
   "id": "09bf366f",
   "metadata": {},
   "outputs": [
    {
     "data": {
      "text/plain": [
       "<function matplotlib.pyplot.legend(*args, **kwargs)>"
      ]
     },
     "execution_count": 7,
     "metadata": {},
     "output_type": "execute_result"
    },
    {
     "data": {
      "image/png": "[encoded data removed]",
      "text/plain": [
       "<Figure size 432x288 with 1 Axes>"
      ]
     },
     "metadata": {
      "needs_background": "light"
     },
     "output_type": "display_data"
    }
   ],
   "source": [
    "plt.plot(range(5, 16), dx1, label = \"LU\")\n",
    "plt.plot(range(5, 16), dx2, label = \"LU разложения по схеме частичного выбора\")\n",
    "plt.legend"
   ]
  },
  {
   "cell_type": "markdown",
   "id": "cb78fdf6",
   "metadata": {},
   "source": [
    "**Вывод:** в результате проведенных вычислений получилась катострофическая потеря точности. Это связано с тем, что исходная матрица плохо обусловлена. Из графика видно, что при увеличении размерности матрицы получаемая погрешность растет и в итоге полученные значения имеют очень большую погрешность."
   ]
  },
  {
   "cell_type": "markdown",
   "id": "ee4f8660",
   "metadata": {},
   "source": [
    "## Задача 2 \n",
    "**Задание:** Дана система уравнений $Ax = b$ порядка n с разреженной матрицей A. Решить систему прямым методом.  \n",
    "В случае коллизий в матрице диагонали имеют приоритет над столбцами, главные диагонали – над побочными.  \n",
    "n = 70  \n",
    "На побочной диагонали элементы равны 50, в 65-ом столбце элементы равны 10. $b_i = i^2 - 100$  \n",
    "  \n",
    "1. Для указанной в индивидуальном варианте системы уравнений вывести формулы для нахождения неизвестных."
   ]
  },
  {
   "cell_type": "markdown",
   "id": "f552f33a",
   "metadata": {},
   "source": [
    "Исходная система уравнений:\n",
    "\\begin{cases}\n",
    "10 x_{65} + 50 x_{70} = b_1 \\\\\n",
    "10 x_{65} + 50 x_{69} = b_2 \\\\\n",
    "... \\\\\n",
    "50 x_{65} = b_6 \\\\\n",
    "... \\\\\n",
    "50 x_2 + 10 x_{65} = b_{69} \\\\\n",
    "50 x_1 + 10 x_{65} = b_{70} \\\\\n",
    "\\end{cases}  \n",
    "  \n",
    "Из 6-ой строки: $$x_{65} = {{b_6}\\over{50}}$$  \n",
    "Тогда:  \n",
    "$$\n",
    "x_{70} = {{b_1 - 10 x_{65}}\\over{50}} \\\\\n",
    "x_{69} = {{b_2 - 10 x_{65}}\\over{50}} \\\\\n",
    "... \\\\\n",
    "x_1 =  {{b_{70} - 10 x_{65}}\\over{50}} \\\\\n",
    "$$"
   ]
  },
  {
   "cell_type": "markdown",
   "id": "b57769d4",
   "metadata": {},
   "source": [
    "2. Предусмотреть компактное размещение элементов матрицы в памяти ЭВМ, используя одномерные массивы."
   ]
  },
  {
   "cell_type": "code",
   "execution_count": 8,
   "id": "3d8b9956",
   "metadata": {},
   "outputs": [],
   "source": [
    "second_diag = np.zeros(70)\n",
    "for i in range(len(second_diag)):\n",
    "    second_diag[i] = 50\n",
    "    \n",
    "column65 = np.zeros(70)\n",
    "for i in range(len(column65)):\n",
    "    column65[i] = 10\n",
    "column65[5] = 50\n",
    "\n",
    "b = np.zeros(70)\n",
    "for i in range(len(b)):\n",
    "    b[i] = ((i + 1)**2) - 100"
   ]
  },
  {
   "cell_type": "markdown",
   "id": "45004c27",
   "metadata": {},
   "source": [
    "3. Подготовить тестовый пример."
   ]
  },
  {
   "cell_type": "markdown",
   "id": "000b3d7a",
   "metadata": {},
   "source": [
    "В качестве тестового примера сделаем аналогичную систему меньшего размера:  \n",
    "\\begin{cases}\n",
    " 0 x_1 +  0 x_2 +  5 x_3 + 10 x_4 = 15 \\\\\n",
    " 0 x_1 +  0 x_2 + 10 x_3 +  0 x_4 = 20 \\\\\n",
    " 0 x_1 + 10 x_2 +  5 x_3 +  0 x_4 = 25 \\\\\n",
    "10 x_1 +  0 x_2 +  5 x_3 +  0 x_4 = 30 \\\\\n",
    "\\end{cases}  "
   ]
  },
  {
   "cell_type": "code",
   "execution_count": 9,
   "id": "72bd6ec9",
   "metadata": {},
   "outputs": [],
   "source": [
    "second_diag_test = np.zeros(4)\n",
    "for i in range(len(second_diag_test)):\n",
    "    second_diag_test[i] = 10\n",
    "    \n",
    "column3_test = np.zeros(4)\n",
    "for i in range(len(column3_test)):\n",
    "    column3_test[i] = 5\n",
    "column3_test[1] = 10\n",
    "\n",
    "b_test = np.zeros(4)\n",
    "for i in range(len(b_test)):\n",
    "    b_test[i] = 15 + 5 * i"
   ]
  },
  {
   "cell_type": "markdown",
   "id": "7a2cb183",
   "metadata": {},
   "source": [
    "4. Решить систему для тестового примера и для указанной в варианте системы уравнений."
   ]
  },
  {
   "cell_type": "code",
   "execution_count": 10,
   "id": "42483501",
   "metadata": {},
   "outputs": [
    {
     "name": "stdout",
     "output_type": "stream",
     "text": [
      "[2.  1.5 2.  0.5]\n",
      "[96.256 93.476 90.736 88.036 85.376 82.756 80.176 77.636 75.136 72.676\n",
      " 70.256 67.876 65.536 63.236 60.976 58.756 56.576 54.436 52.336 50.276\n",
      " 48.256 46.276 44.336 42.436 40.576 38.756 36.976 35.236 33.536 31.876\n",
      " 30.256 28.676 27.136 25.636 24.176 22.756 21.376 20.036 18.736 17.476\n",
      " 16.256 15.076 13.936 12.836 11.776 10.756  9.776  8.836  7.936  7.076\n",
      "  6.256  5.476  4.736  4.036  3.376  2.756  2.176  1.636  1.136  0.676\n",
      "  0.256 -0.124 -0.464 -0.764 -1.28  -1.244 -1.424 -1.564 -1.664 -1.724]\n"
     ]
    }
   ],
   "source": [
    "def Solve(second_diag, column, b, number_column):\n",
    "    n = len(column) - number_column\n",
    "    x = np.zeros(len(column), dtype = float)\n",
    "    p = number_column - 1\n",
    "    x[p] = b[n] / column[n]\n",
    "    for i in range(len(column)):   \n",
    "        if len(column) - 1 - i != p:\n",
    "            x[len(column) - 1 - i] = (b[i] - column[i] * x[p]) / second_diag[i]\n",
    "    return x\n",
    "\n",
    "print(Solve(second_diag_test, column3_test, b_test, 3))\n",
    "print(Solve(second_diag, column65, b, 65))"
   ]
  },
  {
   "cell_type": "markdown",
   "id": "d58d894d",
   "metadata": {},
   "source": [
    "## Задача 3\n",
    "**Задание:** Решить задачу итерационным методом, указанном в индивидуальном варианте (метод Зейделя). Вектор правой части задается как вектор $b = Ax$, где $x_i = N = 21$.  \n",
    "Элементы матрицы A задаются формулами: $a_{i,j} = {{cos(i+j)}\\over{0.1*\\beta}} + 0.1\\beta * e^{-(i-j)^2}$, параметр $\\beta$ задается формулой: $\\beta = (|66 - N| + 5) * m$, здесь N = 21 - номер варианта, m = 18 - размерность матрицы, указанная в варианте. Вектор b задается по вектору решения."
   ]
  },
  {
   "cell_type": "code",
   "execution_count": 11,
   "id": "e8e1086c",
   "metadata": {},
   "outputs": [
    {
     "name": "stdout",
     "output_type": "stream",
     "text": [
      "[21.         21.         21.00000001 20.99999999 21.         21.\n",
      " 21.         21.         21.         21.         21.         21.\n",
      " 21.         21.         21.         21.         21.         21.        ]\n"
     ]
    }
   ],
   "source": [
    "def norm(x):\n",
    "    max = 0\n",
    "    for i in range(len(x)):\n",
    "        if np.abs(x[i]) > max:\n",
    "            max = np.abs(x[i])\n",
    "    return max\n",
    "\n",
    "def matrix_norm(A):\n",
    "    sum = 0\n",
    "    max = 0\n",
    "    for i in range(len(A)):\n",
    "        for j in range(len(A[i])):\n",
    "            sum += np.abs(A[i][j])\n",
    "        if sum > max:\n",
    "            max = sum\n",
    "        sum = 0\n",
    "    return max\n",
    "\n",
    "def Jacobi(A, b):\n",
    "    c = np.zeros(m, dtype = float)\n",
    "    B = np.zeros((m, m), dtype = float)\n",
    "    B1 = np.zeros((m, m), dtype = float)\n",
    "    B2 = np.zeros((m, m), dtype = float)\n",
    "    for i in range(len(A)):\n",
    "        k = A[i][i]\n",
    "        c[i] = b[i] / k\n",
    "        for j in range(i):\n",
    "            B[i][j] = -A[i][j] / k\n",
    "            B1[i][j] = B[i][j]\n",
    "        for j in range(i + 1, len(A[i])):\n",
    "            B[i][j] = -A[i][j] / k\n",
    "            B2[i][j] = B[i][j]\n",
    "    return B, B1, B2, c\n",
    "\n",
    "def SolveSeidel(B, B2, c):\n",
    "    x = np.zeros(m, dtype = float)\n",
    "    xn = np.zeros(m, dtype = float)\n",
    "    for i in range(m):\n",
    "        xn[i] = 1\n",
    "\n",
    "    while norm(xn - x) > (1 - matrix_norm(B)) / matrix_norm(B2) * eps:\n",
    "        x = xn.copy()\n",
    "        xn = np.zeros(m, dtype = float)\n",
    "        for i in range(len(B)):\n",
    "            for j in range(i + 1):\n",
    "                xn[i] += B[i][j] * xn[j]\n",
    "            for j in range(i + 1, len(B[i])):\n",
    "                xn[i] += B[i][j] * x[j]\n",
    "            xn[i] += c[i]\n",
    "    return xn\n",
    "\n",
    "\n",
    "eps = 10**(-8)\n",
    "n = 21\n",
    "m = 18\n",
    "A = np.zeros((m, m), dtype = float)\n",
    "beta = (np.abs(66 - n) + 5) * m\n",
    "for i in range(len(A)):\n",
    "    for j in range(len(A[i])):\n",
    "        A[i][j] = np.cos(i + j) / (0.1*beta) + 0.1*beta*np.exp(-((i-j)**2))\n",
    "b = np.zeros(m, dtype = float)\n",
    "for i in range(m):\n",
    "    b[i] = n\n",
    "b = A.dot(b)\n",
    "\n",
    "B, B1, B2, c = Jacobi(A, b)\n",
    "x = SolveSeidel(B, B2, c)\n",
    "print(x)"
   ]
  },
  {
   "cell_type": "code",
   "execution_count": null,
   "id": "40e0875d",
   "metadata": {},
   "outputs": [],
   "source": []
  }
 ],
 "metadata": {
  "kernelspec": {
   "display_name": "Python 3 (ipykernel)",
   "language": "python",
   "name": "python3"
  },
  "language_info": {
   "codemirror_mode": {
    "name": "ipython",
    "version": 3
   },
   "file_extension": ".py",
   "mimetype": "text/x-python",
   "name": "python",
   "nbconvert_exporter": "python",
   "pygments_lexer": "ipython3",
   "version": "3.9.13"
  }
 },
 "nbformat": 4,
 "nbformat_minor": 5
}
